{
  "nbformat": 4,
  "nbformat_minor": 0,
  "metadata": {
    "colab": {
      "provenance": []
    },
    "kernelspec": {
      "name": "python3",
      "display_name": "Python 3"
    },
    "language_info": {
      "name": "python"
    }
  },
  "cells": [
    {
      "cell_type": "code",
      "execution_count": null,
      "metadata": {
        "id": "WFZ8fjlQEhaN"
      },
      "outputs": [],
      "source": [
        "1. In the below elements which of them are values or an expression? eg:- values can be integer or string and expressions will be mathematical operators.\n",
        "* \n",
        "'hello'\n",
        "-87.8\n",
        "- \n",
        "/ \n",
        "\n",
        "\n",
        "6 \n",
        "\n",
        "2. What is the difference between string and variable?\n",
        "\n",
        "3. Describe three different data types.\n",
        "\n",
        "4. What is an expression made up of? What do all expressions do?\n",
        "5. This assignment statements, like spam = 10. What is the difference between an expression and a statement?\n",
        "6. After running the following code, what does the variable bacon contain?\n",
        "bacon = 22\n",
        "bacon + 1\n",
        "\n",
        "7. What should the values of the following two terms be?\n",
        "'spam' + 'spamspam'\n",
        "'spam' * 3\n",
        "\n",
        "8. Why is eggs a valid variable name while 100 is invalid?\n",
        "9. What three functions can be used to get the integer, floating-point number, or string version of a value?\n",
        "10. Why does this expression cause an error? How can you fix it?\n",
        "'I have eaten ' + 99 + ' burritos.'\n",
        "\n",
        "\n"
      ]
    },
    {
      "cell_type": "code",
      "source": [
        "Answer No 1 -\n",
        "\n",
        "* -> expression\n",
        "'hello' -> value\n",
        "-87.8 -> value\n",
        "- -> expression\n",
        "/ -> expression\n",
        "+ -> Expression\n",
        "6 -> Value"
      ],
      "metadata": {
        "id": "7_QWQRz7Ew_k"
      },
      "execution_count": null,
      "outputs": []
    },
    {
      "cell_type": "markdown",
      "source": [
        "Answer No 2 -\n",
        "\n",
        "Variables are symbols that we can use to store data in a program. We can think of variables as empty boxes that we fill with data or values.\n",
        "\n",
        "Srtings on the other hand is a data which we use to fill up a variable"
      ],
      "metadata": {
        "id": "eQaRMEd-JYBT"
      }
    },
    {
      "cell_type": "markdown",
      "source": [],
      "metadata": {
        "id": "oYTA7NKOEoT0"
      }
    },
    {
      "cell_type": "markdown",
      "source": [
        "Answer 3 -\n",
        "\n",
        "Three different data types are -\n",
        "\n",
        "1. Numeric data type - int, float, complex\n",
        "\n",
        "2. String data type - str\n",
        "\n",
        "3. Sequence data type - list, tuple, range"
      ],
      "metadata": {
        "id": "2Re9Q40XKMz8"
      }
    },
    {
      "cell_type": "markdown",
      "source": [
        "Answer 4 -\n",
        "\n",
        "An expression is a construct made up of variables, operators and method invocations which are contructed according to the syntax of the language that evaluates to a single value."
      ],
      "metadata": {
        "id": "l2Y-oblTLDwK"
      }
    },
    {
      "cell_type": "markdown",
      "source": [
        "Answer 5 -\n",
        "\n",
        "spam = 10 \n",
        "\n",
        "An expression evaluates to a single value. A statement does not. An expression contains a operator such as + - * / % to do some kind of operation but spam = 10 is just an assignment to a variable"
      ],
      "metadata": {
        "id": "D9IlRnzhNJi0"
      }
    },
    {
      "cell_type": "markdown",
      "source": [
        "Answer 6 -\n",
        "\n",
        "It contains the value 23"
      ],
      "metadata": {
        "id": "XitHcfv6PcxF"
      }
    },
    {
      "cell_type": "markdown",
      "source": [
        "Answer 7 -\n",
        "\n",
        "'spamspamspam'"
      ],
      "metadata": {
        "id": "lHQxaaCYPlGa"
      }
    },
    {
      "cell_type": "markdown",
      "source": [
        "Answer 8 -\n",
        "\n",
        "100 is a invalid varibale name as a variable name cannot start with a number"
      ],
      "metadata": {
        "id": "RpJpjP2HP2wL"
      }
    },
    {
      "cell_type": "markdown",
      "source": [
        "Answer 9 -\n",
        "\n",
        "The int(), float(), and str() functions will evaluate to the integer, floating-point number, and string versions of the value passed to them."
      ],
      "metadata": {
        "id": "2z3mXhD6QR6b"
      }
    },
    {
      "cell_type": "markdown",
      "source": [
        "Answer 10 -\n",
        "\n",
        "The expression causes an error because 99 is an integer, and only strings can be concatenated to other strings with the + operator. The correct way is I have eaten ' + str(99) + ' burritos.'."
      ],
      "metadata": {
        "id": "nLVWl2b1QVN0"
      }
    }
  ]
}